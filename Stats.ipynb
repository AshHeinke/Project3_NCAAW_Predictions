{
 "cells": [
  {
   "cell_type": "code",
   "execution_count": null,
   "metadata": {},
   "outputs": [],
   "source": [
    "import numpy as np\n",
    "import pandas as pd\n",
    "import xlrd\n",
    "import os\n",
    "import seaborn as sns\n",
    "from sklearn.model_selection import train_test_split, GridSearchCV,\\\n",
    "cross_val_score, KFold\n",
    "from sklearn.linear_model import LogisticRegression, LinearRegression\n",
    "from sklearn.neighbors import KNeighborsClassifier, KNeighborsRegressor\n",
    "from sklearn.tree import DecisionTreeClassifier, DecisionTreeRegressor\n",
    "from sklearn.ensemble import BaggingClassifier, RandomForestClassifier,\\\n",
    "ExtraTreesClassifier, VotingClassifier, StackingRegressor\n",
    "from sklearn.preprocessing import StandardScaler, OneHotEncoder, LabelEncoder,\\\n",
    "OrdinalEncoder, MaxAbsScaler\n",
    "from sklearn.impute import SimpleImputer\n",
    "from sklearn.metrics import precision_score, recall_score, f1_score,\\\n",
    "accuracy_score, classification_report, r2_score, plot_confusion_matrix\n",
    "from sklearn.pipeline import Pipeline\n",
    "from sklearn.compose import ColumnTransformer\n",
    "from xgboost import XGBRegressor\n",
    "from xgboost import XGBClassifier\n",
    "import xgboost as xgb\n",
    "from matplotlib import pyplot as plt\n",
    "import warnings, itertools"
   ]
  },
  {
   "cell_type": "code",
   "execution_count": null,
   "metadata": {},
   "outputs": [],
   "source": [
    "# Importing CSV of NCAAW regular season team data, pulled from Kaggle\n",
    "season_df = pd.read_csv('/Users/aheinke/Documents/Flatiron/NYC-DS-010923/Phase_3/Phase3_Proj/PROJ_CSVs/WRegularSeasonDetailedResults.csv')\n",
    "season_df"
   ]
  },
  {
   "cell_type": "code",
   "execution_count": null,
   "metadata": {},
   "outputs": [],
   "source": [
    "tourney_df = pd.read_csv('/Users/aheinke/Documents/Flatiron/NYC-DS-010923/Phase_3/Phase3_Proj/PROJ_CSVs/WNCAATourneyDetailedResults.csv')\n",
    "tourney_df"
   ]
  },
  {
   "cell_type": "code",
   "execution_count": null,
   "metadata": {},
   "outputs": [],
   "source": [
    "# Merging the two datasets, sorting by the season and the day number of the game so that\n",
    "# the games line up in order\n",
    "merged_df = pd.concat([season_df, tourney_df])\n",
    "\n",
    "# sort the merged dataframe by \"col_name\" in ascending order\n",
    "sorted_df = merged_df.sort_values(['Season', 'DayNum'], ascending = [True, True])\n",
    "\n",
    "# reset the index\n",
    "games_df = sorted_df.reset_index(drop = True)\n",
    "games_df"
   ]
  },
  {
   "cell_type": "code",
   "execution_count": null,
   "metadata": {},
   "outputs": [],
   "source": []
  },
  {
   "cell_type": "code",
   "execution_count": null,
   "metadata": {},
   "outputs": [],
   "source": [
    "seeds_df = pd.read_csv('/Users/aheinke/Documents/Flatiron/NYC-DS-010923/Phase_3/Phase3_Proj/PROJ_CSVs/WNCAATourneySeeds.csv')\n",
    "seeds_df"
   ]
  },
  {
   "cell_type": "code",
   "execution_count": null,
   "metadata": {},
   "outputs": [],
   "source": [
    "seeds_df['SeedNum'] = seeds_df['Seed'].str.extract('(\\d+)').astype(int)\n",
    "seeds_df"
   ]
  },
  {
   "cell_type": "code",
   "execution_count": null,
   "metadata": {},
   "outputs": [],
   "source": [
    "team_season_seed_dict = dict(zip(zip(seeds_df['TeamID'], seeds_df['Season']), seeds_df['SeedNum']))\n",
    "team_season_seed_dict"
   ]
  },
  {
   "cell_type": "code",
   "execution_count": null,
   "metadata": {},
   "outputs": [],
   "source": [
    "games_df['WSeed'] = games_df.apply(lambda row: team_season_seed_dict.get((row['WTeamID'], row['Season']),\\\n",
    "                                                                           0), axis = 1)"
   ]
  },
  {
   "cell_type": "code",
   "execution_count": null,
   "metadata": {},
   "outputs": [],
   "source": [
    "games_df['LSeed'] = games_df.apply(lambda row: team_season_seed_dict.get((row['LTeamID'], row['Season']),\\\n",
    "                                                                           0), axis = 1)"
   ]
  },
  {
   "cell_type": "code",
   "execution_count": null,
   "metadata": {},
   "outputs": [],
   "source": [
    "games_df.head()"
   ]
  },
  {
   "cell_type": "code",
   "execution_count": null,
   "metadata": {},
   "outputs": [],
   "source": [
    "total_season_wins = games_df.groupby(['Season', 'WTeamID']).count()\n",
    "total_season_wins = total_season_wins.reset_index()[['Season', 'WTeamID', 'DayNum']].rename(columns = {'DayNum':\\\n",
    "                                                                                    'NumWins', 'WTeamID': 'TeamID'})\n",
    "total_season_wins.head()"
   ]
  },
  {
   "cell_type": "code",
   "execution_count": null,
   "metadata": {},
   "outputs": [],
   "source": [
    "total_season_losses = games_df.groupby(['Season', 'LTeamID']).count()\n",
    "total_season_losses = total_season_losses.reset_index()[['Season', 'LTeamID', 'DayNum']].rename(columns = {'DayNum':\\\n",
    "                                                                                    'NumLosses', 'LTeamID': 'TeamID'})\n",
    "total_season_losses.head()"
   ]
  },
  {
   "cell_type": "code",
   "execution_count": null,
   "metadata": {},
   "outputs": [],
   "source": [
    "df_features_season_w = games_df.groupby(['Season', 'WTeamID']).count().reset_index()[['Season',\\\n",
    "                                                'WTeamID']].rename(columns = {'WTeamID': 'TeamID'})\n",
    "df_features_season_l = games_df.groupby(['Season', 'LTeamID']).count().reset_index()[['Season',\\\n",
    "                                                'LTeamID']].rename(columns = {'LTeamID': 'TeamID'})"
   ]
  },
  {
   "cell_type": "code",
   "execution_count": null,
   "metadata": {},
   "outputs": [],
   "source": [
    "df_features_season = pd.concat([df_features_season_w, df_features_season_l],\\\n",
    "                               0).drop_duplicates().sort_values(['Season', 'TeamID']).reset_index(drop = True)"
   ]
  },
  {
   "cell_type": "code",
   "execution_count": null,
   "metadata": {},
   "outputs": [],
   "source": [
    "df_features_season = df_features_season.merge(total_season_wins, on = ['Season', 'TeamID'], how = 'left')\n",
    "df_features_season = df_features_season.merge(total_season_losses, on = ['Season', 'TeamID'], how = 'left')"
   ]
  },
  {
   "cell_type": "code",
   "execution_count": null,
   "metadata": {},
   "outputs": [],
   "source": []
  },
  {
   "cell_type": "code",
   "execution_count": null,
   "metadata": {},
   "outputs": [],
   "source": [
    "# Creating a new column for the difference in points for each game\n",
    "games_df['WinMargin'] = games_df['WScore'] - games_df['LScore']\n",
    "games_df['LossMargin'] = games_df['LScore'] - games_df['WScore']\n",
    "games_df"
   ]
  },
  {
   "cell_type": "code",
   "execution_count": null,
   "metadata": {},
   "outputs": [],
   "source": []
  },
  {
   "cell_type": "code",
   "execution_count": null,
   "metadata": {},
   "outputs": [],
   "source": [
    "<blockquote class=\"tiktok-embed\" cite=\"https://www.tiktok.com/@kiimmyyyyy__/video/7084699009390087466\" data-video-id=\"7084699009390087466\" style=\"max-width: 605px;min-width: 325px;\" > <section> <a target=\"_blank\" title=\"@kiimmyyyyy__\" href=\"https://www.tiktok.com/@kiimmyyyyy__?refer=embed\">@kiimmyyyyy__</a> i don’t even think he made the trash shot 😂 <a title=\"degrassi\" target=\"_blank\" href=\"https://www.tiktok.com/tag/degrassi?refer=embed\">#degrassi</a> <a title=\"drake\" target=\"_blank\" href=\"https://www.tiktok.com/tag/drake?refer=embed\">#drake</a> <a title=\"champagnepapi\" target=\"_blank\" href=\"https://www.tiktok.com/tag/champagnepapi?refer=embed\">#champagnepapi</a> <a title=\"fyp\" target=\"_blank\" href=\"https://www.tiktok.com/tag/fyp?refer=embed\">#fyp</a> <a target=\"_blank\" title=\"♬ original sound - KIMMY 🦋\" href=\"https://www.tiktok.com/music/original-sound-7084698985675377450?refer=embed\">♬ original sound - KIMMY 🦋</a> </section> </blockquote> <script async src=\"https://www.tiktok.com/embed.js\"></script>"
   ]
  },
  {
   "cell_type": "code",
   "execution_count": null,
   "metadata": {},
   "outputs": [],
   "source": []
  },
  {
   "cell_type": "code",
   "execution_count": null,
   "metadata": {},
   "outputs": [],
   "source": []
  },
  {
   "cell_type": "code",
   "execution_count": null,
   "metadata": {},
   "outputs": [],
   "source": []
  },
  {
   "cell_type": "code",
   "execution_count": null,
   "metadata": {},
   "outputs": [],
   "source": []
  },
  {
   "cell_type": "code",
   "execution_count": null,
   "metadata": {},
   "outputs": [],
   "source": []
  },
  {
   "cell_type": "code",
   "execution_count": null,
   "metadata": {},
   "outputs": [],
   "source": [
    "FG + 0.5 * 3P) / FGA."
   ]
  },
  {
   "cell_type": "code",
   "execution_count": null,
   "metadata": {},
   "outputs": [],
   "source": [
    "# true shooting percentage\n",
    "games_features_df['1SP'] = 100 * ((0.5 * games_features_df['WScore']) / (games_features_df['WFGA'] + (0.475 * \\\n",
    "                                                                                games_features_df['WFTA'])))\n",
    "games_features_df['2SP'] = 100 * ((0.5 * games_features_df['LScore']) / (games_features_df['LFGA'] + (0.475 * \\\n",
    "                                                                                games_features_df['LFTA'])))"
   ]
  },
  {
   "cell_type": "code",
   "execution_count": null,
   "metadata": {},
   "outputs": [],
   "source": [
    "# Number of Possessions\n",
    "games_features_df['WPossessions'] = 0.5 * (('WFGA' + 0.4 * 'WFTA' - 1.07 * ('WOR' / ('WOR' + 'LDR')) * ('WFGA' - \\\n",
    "          'WFGM') + 'WTO') + ('LFGA' + 0.4 * 'LFTA' - 1.07 * ('LOR' / ('LOR' + 'WDR')) * ('LFGA' - 'LFGM') + 'LTO'))\n",
    "games_features_df['LPossessions'] = 0.5 * (('LFGA' + 0.4 * 'LFTA' - 1.07 * ('LOR' / ('LOR' + 'WDR')) * ('LFGA' - \\\n",
    "          'LFGM') + 'LTO') + ('WFGA' + 0.4 * 'WFTA' - 1.07 * ('WOR' / ('WOR' + 'LDR')) * ('WFGA' - 'WFGM') + 'WTO'))\n",
    "\n",
    "# Points Per Possession\n",
    "games_features_df['WPtsPerPoss'] = games_features_df['WScore'] / games_features_df['WPossessions']\n",
    "games_features_df['LPtsPerPoss'] = games_features_df['LScore'] / games_features_df['LPossessions']\n",
    "\n",
    "# Effective Field Goal Percentage\n",
    "sabermetrics['WEffectiveFGPct'] = ((df_season_results['WScore'] - df_season_results['WFTM']) / 2) / df_season_results['WFGA']\n",
    "sabermetrics['LEffectiveFGPct'] = ((df_season_results['LScore'] - df_season_results['LFTM']) / 2) / df_season_results['LFGA']\n",
    "\n",
    "# Percentage of Field Goals Assisted\n",
    "sabermetrics['WAssistRate'] = df_season_results['WAst'] / df_season_results['WFGM']\n",
    "sabermetrics['LAssistRate'] = df_season_results['LAst'] / df_season_results['LFGM']\n",
    "\n",
    "# Rebound Percentage\n",
    "sabermetrics['WReboundPct'] = (df_season_results['WOR'] + df_season_results['WDR']) / (df_season_results['WFGA'] - df_season_results['WFGM'])\n",
    "sabermetrics['LReboundPct'] = (df_season_results['LOR'] + df_season_results['LDR']) / (df_season_results['LFGA'] - df_season_results['LFGM'])\n",
    "\n",
    "# Assist to Turnover Ratio\n",
    "sabermetrics['WATORatio'] = df_season_results['WAst'] / df_season_results['WTO']\n",
    "sabermetrics['LATORatio'] = df_season_results['LAst'] / df_season_results['LTO']\n",
    "\n",
    "# Turnover Rate\n",
    "sabermetrics['WTORate'] = df_season_results['WTO'] / df_season_results['WPossessions']\n",
    "sabermetrics['LTORate'] = df_season_results['LTO'] /  df_season_results['LPossessions']\n",
    "\n",
    "# Percentage of Shots Beyond the Arc\n",
    "sabermetrics['WBArcPct'] = df_season_results['WFGA3'] / df_season_results['WFGA']\n",
    "sabermetrics['LBArcPct'] = df_season_results['LFGA3'] /  df_season_results['LFGA']\n",
    "\n",
    "# Free Throw Rate\n",
    "sabermetrics['WFTRate'] = df_season_results['WFTA'] / df_season_results['WFGA']\n",
    "sabermetrics['LFTRate'] = df_season_results['LFTA'] /  df_season_results['LFGA']\n",
    "\n",
    "# Block to Foul Percentage\n",
    "sabermetrics['WBlockFoul'] = df_season_results['WBlk'] / (df_season_results['WPF'] + df_season_results['WBlk'])\n",
    "sabermetrics['LBlockFoul'] = df_season_results['LBlk'] / (df_season_results['LPF'] + df_season_results['LBlk'])\n",
    "\n",
    "# Steal to Foul Percentage\n",
    "sabermetrics['WStealFoul'] = df_season_results['WStl'] / (df_season_results['WPF'] + df_season_results['WStl'])\n",
    "sabermetrics['LStealFoul'] = df_season_results['LStl'] / (df_season_results['LPF'] + df_season_results['LStl'])"
   ]
  }
 ],
 "metadata": {
  "kernelspec": {
   "display_name": "Python 3",
   "language": "python",
   "name": "python3"
  },
  "language_info": {
   "codemirror_mode": {
    "name": "ipython",
    "version": 3
   },
   "file_extension": ".py",
   "mimetype": "text/x-python",
   "name": "python",
   "nbconvert_exporter": "python",
   "pygments_lexer": "ipython3",
   "version": "3.8.5"
  }
 },
 "nbformat": 4,
 "nbformat_minor": 4
}
